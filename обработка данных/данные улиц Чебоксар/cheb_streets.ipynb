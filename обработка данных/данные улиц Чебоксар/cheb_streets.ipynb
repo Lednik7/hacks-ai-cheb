{
  "nbformat": 4,
  "nbformat_minor": 0,
  "metadata": {
    "colab": {
      "name": "cheb_streets.ipynb",
      "provenance": []
    },
    "kernelspec": {
      "name": "python3",
      "display_name": "Python 3"
    },
    "language_info": {
      "name": "python"
    }
  },
  "cells": [
    {
      "cell_type": "code",
      "metadata": {
        "id": "qm1OYIdfX7Ka"
      },
      "source": [
        "import requests\n",
        "from bs4 import BeautifulSoup\n",
        "import pandas as pd\n",
        " \n",
        "contents = requests.get(\"https://100realt.ru/cheboksary/ulitsy\").text\n",
        "soup = BeautifulSoup(contents, 'lxml')"
      ],
      "execution_count": null,
      "outputs": []
    },
    {
      "cell_type": "code",
      "metadata": {
        "id": "cA_Ws3TeZNYg"
      },
      "source": [
        "temp = soup.find(\"div\", {\"class\": \"container mymain\"})"
      ],
      "execution_count": null,
      "outputs": []
    },
    {
      "cell_type": "code",
      "metadata": {
        "id": "sEPk5O2vYrsx"
      },
      "source": [
        "titles = [i.text for i in temp.find_all(\"h2\")]"
      ],
      "execution_count": null,
      "outputs": []
    },
    {
      "cell_type": "code",
      "metadata": {
        "id": "UOEz0JTZX7Y7"
      },
      "source": [
        "out = []\n",
        "for div, title in zip(temp.find_all(\"div\", {\"class\": \"row\"}), titles):\n",
        "    for i in div.find_all(\"div\"):\n",
        "        out.append([title, i.contents[0]])"
      ],
      "execution_count": null,
      "outputs": []
    },
    {
      "cell_type": "code",
      "metadata": {
        "id": "VV95XmovaQH_"
      },
      "source": [
        "df = pd.DataFrame(out, columns=[\"object_group\", \"item_name\"])"
      ],
      "execution_count": null,
      "outputs": []
    },
    {
      "cell_type": "code",
      "metadata": {
        "id": "VhL653J2aq52"
      },
      "source": [
        "df.to_csv(\"streets_cheb.csv\", index=False)"
      ],
      "execution_count": null,
      "outputs": []
    }
  ]
}